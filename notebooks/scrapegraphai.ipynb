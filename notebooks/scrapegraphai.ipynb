{
 "cells": [
  {
   "cell_type": "code",
   "execution_count": null,
   "metadata": {},
   "outputs": [
    {
     "name": "stderr",
     "output_type": "stream",
     "text": [
      "--- Executing Fetch Node ---\n",
      "--- (Fetching HTML from: https://scrapegraphai.com/) ---\n",
      "--- Executing ParseNode Node ---\n",
      "--- Executing GenerateAnswer Node ---\n"
     ]
    },
    {
     "name": "stdout",
     "output_type": "stream",
     "text": [
      "{\n",
      "    \"description\": \"ScrapeGraphAI transforms websites into clean, organized data for AI agents and data analytics. It offers an AI-powered API that allows users to extract structured data from any website, making it suitable for enterprises and startups alike.\",\n",
      "    \"founders\": [\n",
      "        {\n",
      "            \"name\": \"Marco Perini\",\n",
      "            \"role\": \"Founder & CTO\",\n",
      "            \"linkedin\": \"https://www.linkedin.com/in/perinim/\"\n",
      "        },\n",
      "        {\n",
      "            \"name\": \"Marco Vinciguerra\",\n",
      "            \"role\": \"Founder & Software Engineer\",\n",
      "            \"linkedin\": \"https://www.linkedin.com/in/marco-vinciguerra-7ba365242/\"\n",
      "        },\n",
      "        {\n",
      "            \"name\": \"Lorenzo Padoan\",\n",
      "            \"role\": \"Founder & CEO\",\n",
      "            \"linkedin\": \"https://www.linkedin.com/in/lorenzo-padoan-4521a2154/\"\n",
      "        }\n",
      "    ],\n",
      "    \"social_media_links\": {\n",
      "        \"linkedin\": \"https://www.linkedin.com/company/101881123\",\n",
      "        \"twitter\": \"https://x.com/scrapegraphai\",\n",
      "        \"github\": \"https://github.com/ScrapeGraphAI/Scrapegraph-ai\",\n",
      "        \"discord\": \"https://discord.gg/uJN7TYcpNa\"\n",
      "    }\n",
      "}\n"
     ]
    }
   ],
   "source": [
    "from scrapegraphai.graphs import SmartScraperGraph\n",
    "\n",
    "#resolves \"Error in crawl: asyncio.run() cannot be called from a running event loop\" - playwright has a running loop\n",
    "import nest_asyncio\n",
    "nest_asyncio.apply()\n",
    "\n",
    "# Define the configuration for the scraping pipeline\n",
    "graph_config = {\n",
    "   \"llm\": {\n",
    "       \"api_key\": \"\",\n",
    "       \"model\": \"openai/gpt-4o-mini\",\n",
    "   },\n",
    "   \"verbose\": True,\n",
    "   \"headless\": False,\n",
    "}\n",
    "\n",
    "# Create the SmartScraperGraph instance\n",
    "smart_scraper_graph = SmartScraperGraph(\n",
    "    prompt=\"Extract useful information from the webpage, including a description of what the company does, founders and social media links\",\n",
    "    source=\"https://scrapegraphai.com/\",\n",
    "    config=graph_config\n",
    ")\n",
    "\n",
    "# Run the pipeline\n",
    "result = smart_scraper_graph.run()\n",
    "\n",
    "import json\n",
    "print(json.dumps(result, indent=4))"
   ]
  },
  {
   "cell_type": "code",
   "execution_count": null,
   "metadata": {},
   "outputs": [],
   "source": []
  }
 ],
 "metadata": {
  "kernelspec": {
   "display_name": "neetcode",
   "language": "python",
   "name": "neetcode"
  },
  "language_info": {
   "codemirror_mode": {
    "name": "ipython",
    "version": 3
   },
   "file_extension": ".py",
   "mimetype": "text/x-python",
   "name": "python",
   "nbconvert_exporter": "python",
   "pygments_lexer": "ipython3",
   "version": "3.11.11"
  }
 },
 "nbformat": 4,
 "nbformat_minor": 2
}
